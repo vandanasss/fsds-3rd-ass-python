{
 "cells": [
  {
   "cell_type": "code",
   "execution_count": null,
   "id": "f1e8afaf",
   "metadata": {},
   "outputs": [],
   "source": [
    "#1) . What is the difference between enclosing a list comprehension in square brackets and parentheses?\n",
    "Ans: Enclosing a list comprehension in square brackets returns a list.but where as enclosing a list comprehension in parentheses returns a generator object"
   ]
  },
  {
   "cell_type": "code",
   "execution_count": 2,
   "id": "9e56f76b",
   "metadata": {},
   "outputs": [
    {
     "name": "stdout",
     "output_type": "stream",
     "text": [
      "[0, 1, 2, 3, 4, 5, 6, 7, 8, 9] <class 'list'>\n",
      "<generator object <genexpr> at 0x0000018F8FDDE200> <class 'generator'>\n"
     ]
    }
   ],
   "source": [
    "k = [i for i in range(10)]\n",
    "print(k, type(k))\n",
    "j= (i for i in range(10))\n",
    "print(j, type(j))"
   ]
  },
  {
   "cell_type": "code",
   "execution_count": null,
   "id": "d252035f",
   "metadata": {},
   "outputs": [],
   "source": []
  },
  {
   "cell_type": "code",
   "execution_count": null,
   "id": "8d19d015",
   "metadata": {},
   "outputs": [],
   "source": []
  },
  {
   "cell_type": "code",
   "execution_count": null,
   "id": "5f7db0dc",
   "metadata": {},
   "outputs": [],
   "source": [
    "#2) What is the relationship between generators and iterators?\n",
    "Ans: An iterator is an object which contains a countable number of values and it is used to iterate over iterable objects like list, tuples, sets, etc. Iterators are implemented using a class. It follows lazy evaluation where the evaluation of the expression will be on hold and stored in the memory until the item is called specifically which helps us to avoid repeated evaluation. As lazy evaluation is implemented, it requires only 1 memory location to process the value and when we are using a large dataset then, wastage of RAM space will be reduced the need to load the entire dataset at the same time will not be there.For an iterator: iter() keyword is used to create an iterator containing an iterable object.next() keyword is used to call the next element in the iterable object.\n",
    "\n",
    "Similarly Generators are an another way of creating iterators in a simple way where it uses the keyword yield statement instead of return statement in a defined function.Generators are implemented using a function. Just as iterators, generators also follow lazy evaluation. Here, the yield function returns the data without affecting or exiting the function. It will return a sequence of data in an iterable format where we need to iterate over the sequence to use the data as they won’t store the entire sequence in the memory."
   ]
  },
  {
   "cell_type": "code",
   "execution_count": 4,
   "id": "e6820ceb",
   "metadata": {},
   "outputs": [
    {
     "name": "stdout",
     "output_type": "stream",
     "text": [
      "<class 'list_iterator'>\n",
      "ivks\n",
      "Fjhy\n",
      "Samm\n",
      "DSpi\n",
      "<list_iterator object at 0x0000018F8FDF6160>\n",
      "0\n",
      "1\n",
      "8\n",
      "27\n",
      "64\n"
     ]
    }
   ],
   "source": [
    "# Example of iterartor\n",
    "iter_str = iter(['ivks','Fjhy','Samm','DSpi'])\n",
    "print(type(iter_str))\n",
    "print(next(iter_str))\n",
    "print(next(iter_str))\n",
    "print(next(iter_str))\n",
    "print(next(iter_str))\n",
    "print(iter_str) # After the iterable object is completed, to use them again we have reassign them to the same object.\n",
    "\n",
    "# Example of Generator\n",
    "def cube_numb(in_num):\n",
    "    for i in range(in_num+1):\n",
    "        yield i**3\n",
    "\n",
    "out_num = cube_numb(4)\n",
    "print(next(out_num))\n",
    "print(next(out_num))\n",
    "print(next(out_num))\n",
    "print(next(out_num))\n",
    "print(next(out_num))"
   ]
  },
  {
   "cell_type": "code",
   "execution_count": null,
   "id": "f723a847",
   "metadata": {},
   "outputs": [],
   "source": []
  },
  {
   "cell_type": "code",
   "execution_count": null,
   "id": "563ba391",
   "metadata": {},
   "outputs": [],
   "source": []
  },
  {
   "cell_type": "code",
   "execution_count": null,
   "id": "ea9ce6d1",
   "metadata": {},
   "outputs": [],
   "source": [
    "#3) What are the signs that a function is a generator function?\n",
    "Ans: A generator function uses a yield statement instead of a return statement. A generator function will always return a iterable object called generator. where as a normal function can return a string/list/tuple/dict/NoneType ... etc\n",
    "\n",
    "\n",
    "\n",
    "\n",
    "#4) What is the purpose of a yield statement?\n",
    "Ans: The yield statement suspends function’s execution and sends a value back to the caller, but retains enough state to enable function to resume where it is left off. When resumed, the function continues execution immediately after the last yield run. This allows its code to produce a series of values over time, rather than computing them at once and sending them back like a list.\n",
    "\n",
    "\n",
    "\n",
    "\n",
    "\n",
    "#5) What is the relationship between map calls and list comprehensions? Make a comparison and contrast between the two ?\n",
    "Ans: The main differences between map calls and list comprehensiosn are:\n",
    "\n",
    "List comprehension is more concise and easier to read as compared to map.\n",
    "List comprehension allows filtering. In map, we have no such facility. For example, to print all odd numbers in range of 50, we can write [n for n in range(50) if n%2 != 0]. There is no alternate for it in map\n",
    "List comprehension are used when a list of results is required as final output.but map only returns a map object. it needs to be explicitly coverted to desired datatype.\n",
    "List comprehension is faster than map when we need to evaluate expressions that are too long or complicated to express\n",
    "Map is faster in case of calling an already defined function on a set of values."
   ]
  },
  {
   "cell_type": "code",
   "execution_count": null,
   "id": "f01a679e",
   "metadata": {},
   "outputs": [],
   "source": []
  },
  {
   "cell_type": "code",
   "execution_count": null,
   "id": "2bd30f0c",
   "metadata": {},
   "outputs": [],
   "source": []
  },
  {
   "cell_type": "code",
   "execution_count": null,
   "id": "88da9b84",
   "metadata": {},
   "outputs": [],
   "source": []
  },
  {
   "cell_type": "code",
   "execution_count": null,
   "id": "2be2513e",
   "metadata": {},
   "outputs": [],
   "source": []
  }
 ],
 "metadata": {
  "kernelspec": {
   "display_name": "Python 3 (ipykernel)",
   "language": "python",
   "name": "python3"
  },
  "language_info": {
   "codemirror_mode": {
    "name": "ipython",
    "version": 3
   },
   "file_extension": ".py",
   "mimetype": "text/x-python",
   "name": "python",
   "nbconvert_exporter": "python",
   "pygments_lexer": "ipython3",
   "version": "3.9.12"
  }
 },
 "nbformat": 4,
 "nbformat_minor": 5
}
